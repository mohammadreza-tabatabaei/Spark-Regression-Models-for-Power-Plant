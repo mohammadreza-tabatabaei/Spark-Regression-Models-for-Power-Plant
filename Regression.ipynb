{
  "nbformat": 4,
  "nbformat_minor": 0,
  "metadata": {
    "colab": {
      "provenance": []
    },
    "kernelspec": {
      "name": "python3",
      "display_name": "Python 3"
    },
    "language_info": {
      "name": "python"
    }
  },
  "cells": [
    {
      "cell_type": "code",
      "source": [
        "from pyspark.sql import SparkSession\n",
        "from pyspark.ml.regression import LinearRegression\n",
        "from pyspark.ml.feature import VectorAssembler\n",
        "from pyspark.ml.regression import DecisionTreeRegressor\n",
        "from pyspark.ml.evaluation import RegressionEvaluator\n",
        "from pyspark.ml.regression import GBTRegressor"
      ],
      "metadata": {
        "id": "GZcWnCX-CTqY"
      },
      "execution_count": 56,
      "outputs": []
    },
    {
      "cell_type": "code",
      "source": [
        "# Initialize Spark session\n",
        "spark = SparkSession.builder.appName(\"PowerPlantAnalysis\").getOrCreate()\n"
      ],
      "metadata": {
        "id": "-4PMoZbeAs7C"
      },
      "execution_count": 57,
      "outputs": []
    },
    {
      "cell_type": "code",
      "source": [
        "# Read the CSV file\n",
        "pp_df = spark.read.csv(\"/content/power-plant.csv\", header=True, inferSchema=True)"
      ],
      "metadata": {
        "id": "TU7ncW1rCkvd"
      },
      "execution_count": 58,
      "outputs": []
    },
    {
      "cell_type": "code",
      "source": [
        "VectorAssembler=VectorAssembler(inputCols=[\"AT\",\"V\",\"AP\",\"RH\"],outputCol=\"features\")"
      ],
      "metadata": {
        "id": "UKMTMch_DIZG"
      },
      "execution_count": 59,
      "outputs": []
    },
    {
      "cell_type": "code",
      "source": [
        "vpp_df=VectorAssembler.transform(pp_df)"
      ],
      "metadata": {
        "id": "g5o9redRDULT"
      },
      "execution_count": 60,
      "outputs": []
    },
    {
      "cell_type": "code",
      "source": [
        "vpp_df.take(1)"
      ],
      "metadata": {
        "colab": {
          "base_uri": "https://localhost:8080/"
        },
        "id": "xItAjUUXGO_U",
        "outputId": "91e5a376-1196-40be-c866-4d7b16577d12"
      },
      "execution_count": 61,
      "outputs": [
        {
          "output_type": "execute_result",
          "data": {
            "text/plain": [
              "[Row(AT=14.96, V=41.76, AP=1024.07, RH=73.17, PE=463.26, features=DenseVector([14.96, 41.76, 1024.07, 73.17]))]"
            ]
          },
          "metadata": {},
          "execution_count": 61
        }
      ]
    },
    {
      "cell_type": "code",
      "source": [
        "lr=LinearRegression(featuresCol=\"features\",labelCol=\"PE\")"
      ],
      "metadata": {
        "id": "YPiBrsLIGXo-"
      },
      "execution_count": 62,
      "outputs": []
    },
    {
      "cell_type": "code",
      "source": [
        "lr_model=lr.fit(vpp_df)"
      ],
      "metadata": {
        "id": "iWl4CaYBGexo"
      },
      "execution_count": 63,
      "outputs": []
    },
    {
      "cell_type": "code",
      "source": [
        "lr_model.coefficients"
      ],
      "metadata": {
        "colab": {
          "base_uri": "https://localhost:8080/"
        },
        "id": "vu_YJ37lGuv3",
        "outputId": "c3c95d28-c712-4422-bdbb-ec95a84bedfa"
      },
      "execution_count": 64,
      "outputs": [
        {
          "output_type": "execute_result",
          "data": {
            "text/plain": [
              "DenseVector([-1.9775, -0.2339, 0.0621, -0.1581])"
            ]
          },
          "metadata": {},
          "execution_count": 64
        }
      ]
    },
    {
      "cell_type": "code",
      "source": [
        "lr_model.intercept"
      ],
      "metadata": {
        "colab": {
          "base_uri": "https://localhost:8080/"
        },
        "id": "lhJidOohG6AO",
        "outputId": "5629705b-54e5-466f-ef29-3981da02b345"
      },
      "execution_count": 65,
      "outputs": [
        {
          "output_type": "execute_result",
          "data": {
            "text/plain": [
              "454.60927445304543"
            ]
          },
          "metadata": {},
          "execution_count": 65
        }
      ]
    },
    {
      "cell_type": "code",
      "source": [
        "lr_model.summary.rootMeanSquaredError"
      ],
      "metadata": {
        "colab": {
          "base_uri": "https://localhost:8080/"
        },
        "id": "mHnzlgDoHFme",
        "outputId": "24f85b36-6c33-4341-c9d2-eb28ecae6fc5"
      },
      "execution_count": 66,
      "outputs": [
        {
          "output_type": "execute_result",
          "data": {
            "text/plain": [
              "4.557126016749479"
            ]
          },
          "metadata": {},
          "execution_count": 66
        }
      ]
    },
    {
      "cell_type": "code",
      "source": [
        "splits=vpp_df.randomSplit([0.7,0.3])\n"
      ],
      "metadata": {
        "id": "jzCmVJG0I-q7"
      },
      "execution_count": 67,
      "outputs": []
    },
    {
      "cell_type": "code",
      "source": [
        "train_df=splits[0]\n",
        "test_df=splits[1]"
      ],
      "metadata": {
        "id": "-s6tSMXmJr6v"
      },
      "execution_count": 68,
      "outputs": []
    },
    {
      "cell_type": "code",
      "source": [
        "train_df.count()"
      ],
      "metadata": {
        "colab": {
          "base_uri": "https://localhost:8080/"
        },
        "id": "z6xwpicKJw9T",
        "outputId": "a6fb0b4d-f690-4919-e736-602f2a69664f"
      },
      "execution_count": 69,
      "outputs": [
        {
          "output_type": "execute_result",
          "data": {
            "text/plain": [
              "6759"
            ]
          },
          "metadata": {},
          "execution_count": 69
        }
      ]
    },
    {
      "cell_type": "code",
      "source": [
        "test_df.count()"
      ],
      "metadata": {
        "colab": {
          "base_uri": "https://localhost:8080/"
        },
        "id": "vWkoUOP5J5jF",
        "outputId": "f1e3d884-27c3-4f8f-86f8-a5c790cd6269"
      },
      "execution_count": 70,
      "outputs": [
        {
          "output_type": "execute_result",
          "data": {
            "text/plain": [
              "2809"
            ]
          },
          "metadata": {},
          "execution_count": 70
        }
      ]
    },
    {
      "cell_type": "code",
      "source": [
        "dt=DecisionTreeRegressor(featuresCol=\"features\",labelCol=\"PE\")"
      ],
      "metadata": {
        "id": "Ju0O5hzoJ72v"
      },
      "execution_count": 71,
      "outputs": []
    },
    {
      "cell_type": "code",
      "source": [
        "dt_model=dt.fit(train_df)"
      ],
      "metadata": {
        "id": "MrOg8MafKi2e"
      },
      "execution_count": 72,
      "outputs": []
    },
    {
      "cell_type": "code",
      "source": [
        "dt_prediction=dt_model.transform(test_df)"
      ],
      "metadata": {
        "id": "PaH2mD3MKuIv"
      },
      "execution_count": 73,
      "outputs": []
    },
    {
      "cell_type": "code",
      "source": [
        "dt_evaluator = RegressionEvaluator(labelCol=\"PE\", predictionCol=\"prediction\", metricName=\"rmse\")"
      ],
      "metadata": {
        "id": "rsujUVFRMnng"
      },
      "execution_count": 74,
      "outputs": []
    },
    {
      "cell_type": "code",
      "source": [
        "rms=dt_evaluator.evaluate(dt_prediction)"
      ],
      "metadata": {
        "id": "RRonmgNBM0Yp"
      },
      "execution_count": 75,
      "outputs": []
    },
    {
      "cell_type": "code",
      "source": [
        "rms"
      ],
      "metadata": {
        "colab": {
          "base_uri": "https://localhost:8080/"
        },
        "id": "Isg56m7WK3Ay",
        "outputId": "d05ea9b2-a90f-45cb-f340-84e01b590a61"
      },
      "execution_count": 76,
      "outputs": [
        {
          "output_type": "execute_result",
          "data": {
            "text/plain": [
              "4.49263478544322"
            ]
          },
          "metadata": {},
          "execution_count": 76
        }
      ]
    },
    {
      "cell_type": "code",
      "source": [
        "gbt=GBTRegressor(featuresCol=\"features\",labelCol=\"PE\")"
      ],
      "metadata": {
        "id": "f1R1_b5INNb1"
      },
      "execution_count": 77,
      "outputs": []
    },
    {
      "cell_type": "code",
      "source": [
        "gbt_model=gbt.fit(train_df)"
      ],
      "metadata": {
        "id": "sL9DUW2INUUg"
      },
      "execution_count": 78,
      "outputs": []
    },
    {
      "cell_type": "code",
      "source": [
        "gbt_prediction=gbt_model.transform(test_df)"
      ],
      "metadata": {
        "id": "BFgoR5HKNcNT"
      },
      "execution_count": 79,
      "outputs": []
    },
    {
      "cell_type": "code",
      "source": [
        "gbt_evaluator=RegressionEvaluator(labelCol=\"PE\",predictionCol=\"prediction\",metricName=\"rmse\")"
      ],
      "metadata": {
        "id": "bfTkPE9pNlgZ"
      },
      "execution_count": 80,
      "outputs": []
    },
    {
      "cell_type": "code",
      "source": [
        "gbt_rms=gbt_evaluator.evaluate(gbt_prediction)"
      ],
      "metadata": {
        "id": "3_TZh5oZNtY2"
      },
      "execution_count": 81,
      "outputs": []
    },
    {
      "cell_type": "code",
      "source": [
        "gbt_rms"
      ],
      "metadata": {
        "colab": {
          "base_uri": "https://localhost:8080/"
        },
        "id": "b_SlL5VYN2eb",
        "outputId": "20c35867-5841-461d-9306-d1ec2c6878bb"
      },
      "execution_count": 82,
      "outputs": [
        {
          "output_type": "execute_result",
          "data": {
            "text/plain": [
              "4.0015028612517245"
            ]
          },
          "metadata": {},
          "execution_count": 82
        }
      ]
    }
  ]
}